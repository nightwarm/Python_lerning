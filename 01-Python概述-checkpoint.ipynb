{
 "cells": [
  {
   "cell_type": "code",
   "execution_count": null,
   "metadata": {},
   "outputs": [],
   "source": [
    "环境安装\n",
    "#1.给人看\n",
    "#2。给机器看\n",
    "#注释是给人看的"
   ]
  },
  {
   "cell_type": "markdown",
   "metadata": {},
   "source": [
    "# 注释\n",
    "- 机器不用执行注释内容\n",
    "- 注释一般用自然语言书写\n",
    "- 注释的写法\n",
    "     - 行注释：以#开头，可以单独执行，也可以在某行代码后面\n",
    "     - 块注释：好几行代码或者内容 以三个连续单引号或者双引号开始，三个单引号或者双引号结束"
   ]
  },
  {
   "cell_type": "markdown",
   "metadata": {},
   "source": [
    "## 变量\n",
    "\n",
    "- 程序=数据结构+算法\n",
    "- 变量就是可以重复使用的一个量，或者一个代号\n",
    "- 变量命名的规则\n",
    "     - 变量命名可以包含数字，大小写字母，下划线或者更多，但是我们不推荐除了前三种内容之外的符号\n",
    "     - 数字不可以打头\n",
    "     - 一般在Python中，以下划线开头的内容具有特殊意义，不建议使用\n",
    "     - 大小写不一样\n",
    "     - 推荐\n",
    "        - 使用具体固定含义的英文单词或者缩写  srv=server  skt=socket，一般以posix命名规则为主\n",
    "        - 驼峰命名法\n",
    "           - 名称以单词自动连接，且每个单词首字母大写\n",
    "             - 大驼峰，每个单词第一个字母均大写\n",
    "               - 在Python中给类命名使用此法  MyFirstLove\n",
    "             - 小驼峰，类似大驼峰，但是第一个字母小写\n",
    "               - 在Python中一般给普通变量或者函数命名  myFirstLove\n",
    "             - posix写法\n",
    "               - 多个单词用下划线连接\n",
    "               - 单词全部小写my_first_love\n",
    "     - 保留字和关键字\n",
    "        - 变量命名必须避开，不能跟关键字和保留字重复\n",
    "        - class，def，break，for\n",
    "        \n",
    "        - import keyword\n",
    "          print(keyword.kwlist)\n",
    "        \n",
    "     "
   ]
  },
  {
   "cell_type": "markdown",
   "metadata": {},
   "source": [
    "## 变量声明\n",
    "\n",
    "- var_name = var_value\n",
    "- var1 = var2 = var3 = var_value\n",
    "- var1,var2,var3 = v1,v2,v3"
   ]
  },
  {
   "cell_type": "markdown",
   "metadata": {},
   "source": [
    "## 变量的类型\n",
    "- 严格意义上，Python只有一个类型\n",
    "- 标准数据一共有六种\n",
    "    -数字类型Number\n",
    "    -字符串类型Str\n",
    "    -列表 list\n",
    "    -元组 tuple\n",
    "    -字典 Dictionary\n",
    "    -集合 set\n",
    "    "
   ]
  },
  {
   "cell_type": "markdown",
   "metadata": {},
   "source": [
    "## Number数字类型\n",
    "- 数字类型没有大小限制\n",
    "### 整数\n",
    "    - 没有小数部分，表示个数的数字\n",
    "    - 自然数，0，负自然数\n",
    "    - 整数分进制\n",
    "        - 二进制\n",
    "          - 计算机常用\n",
    "          - 是计算机唯一能直接理解的数字\n",
    "          - 表示0b开头的0，1代码，例如0b01101\n",
    "        - 八进制\n",
    "          - 不常用\n",
    "          - 以0o开头的0-7的数字\n",
    "        - 十六进制\n",
    "          - 逢16进一\n",
    "          - 其实是每四位二进制表示一位十六进制数\n",
    "          - 包含0-9，a-f\n",
    "          - 数字上以0x开头表示\n",
    "          0xff = 0b11111111\n",
    "        - 十进制\n",
    "        "
   ]
  },
  {
   "cell_type": "markdown",
   "metadata": {},
   "source": [
    "## 浮点数\n",
    "- 小数\n",
    "- 计算机里表示浮点数可以有条件省略\n",
    "- 3.1215\n",
    "- 3.\n",
    "- .5\n",
    "- 科学计数法\n",
    "  - 定义跟数学定义\n",
    "  - 写法是e/E后面整数表示10的指数\n",
    "  - 176.23 == 1.7623e2\n",
    "  - 0.876 == 8.76e-1"
   ]
  },
  {
   "cell_type": "markdown",
   "metadata": {},
   "source": [
    "## 复数\n",
    "- 定义同数学定义\n",
    "- 一个数字由实部和虚部构成的数字\n",
    "- 虚部用j/J表示\n",
    "- 5+3j\n",
    "- 3j\n",
    "- （3j）"
   ]
  },
  {
   "cell_type": "markdown",
   "metadata": {},
   "source": [
    "## 布尔值\n",
    "- 表示真假的值\n",
    "- 只有两个值，Ture/False\n",
    "- 布尔值可以跟数字直接操作"
   ]
  },
  {
   "cell_type": "code",
   "execution_count": 4,
   "metadata": {},
   "outputs": [
    {
     "name": "stdout",
     "output_type": "stream",
     "text": [
      "19\n"
     ]
    }
   ],
   "source": [
    "age = 18 + True\n",
    "print(age)"
   ]
  },
  {
   "cell_type": "markdown",
   "metadata": {},
   "source": [
    "## 字符串\n",
    "  - 用来表示一串文字信息\n",
    "  - 如何表示\n",
    "    - 单引号\n",
    "    - 双引号\n",
    "    - 三引号（三个双引号或者三个单引号）\n",
    "  - 单双引号可以交错使用"
   ]
  },
  {
   "cell_type": "code",
   "execution_count": 5,
   "metadata": {},
   "outputs": [
    {
     "name": "stdout",
     "output_type": "stream",
     "text": [
      "i Love Wangxiaojing\n",
      "我爱王晓静\n"
     ]
    }
   ],
   "source": [
    "love = 'i Love Wangxiaojing'\n",
    "print(love)\n",
    "\n",
    "love = '我爱王晓静'\n",
    "print(love)\n",
    "\n",
    "#单双引号交错使用\n",
    "# <a =style=\"color:red\">哈哈哈(/a)\n",
    "#用引号表示上面字符串\n",
    "html = 'a style=\"color:red\">哈哈哈</a>'"
   ]
  }
 ],
 "metadata": {
  "kernelspec": {
   "display_name": "Python 3",
   "language": "python",
   "name": "python3"
  },
  "language_info": {
   "codemirror_mode": {
    "name": "ipython",
    "version": 3
   },
   "file_extension": ".py",
   "mimetype": "text/x-python",
   "name": "python",
   "nbconvert_exporter": "python",
   "pygments_lexer": "ipython3",
   "version": "3.7.0"
  }
 },
 "nbformat": 4,
 "nbformat_minor": 2
}
