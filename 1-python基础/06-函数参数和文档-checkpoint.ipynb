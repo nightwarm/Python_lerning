{
 "cells": [
  {
   "cell_type": "markdown",
   "metadata": {},
   "source": [
    "# 四类参数\n",
    "  - 普通参数\n",
    "  - 默认参数\n",
    "  - 关键字参数\n",
    "  - 收集参数\n",
    "  \n",
    "## 关键字参数\n",
    "  - 语法\n",
    "  \n",
    "                    def func(p1=v1,p2=v2........)\n",
    "                         func_body\n",
    "                    \n",
    "                    #调用\n",
    "                    func(p1=value1,p2=value2.....)\n",
    "  - 比较麻烦，但也有好处\n",
    "    - 不容易混淆，一般实参和形参只是按照位置一一对应即可，容易出错\n",
    "    - 使用关键字参数，可以不考虑参数位置"
   ]
  },
  {
   "cell_type": "code",
   "execution_count": 6,
   "metadata": {},
   "outputs": [
    {
     "name": "stdout",
     "output_type": "stream",
     "text": [
      "I am a student\n",
      "我叫jingjing,我今年18岁了，我住我家\n",
      "I am a student\n",
      "我叫jingjing,我今年18岁了，我住我家\n"
     ]
    }
   ],
   "source": [
    "# 关键字参数案例\n",
    "def stu(name,age,addr):\n",
    "    print('I am a student')\n",
    "    print('我叫{0},我今年{1}岁了，我住{2}'.format(name,age,addr))\n",
    "    \n",
    "n = 'jingjing'\n",
    "a = 18\n",
    "addr = '我家'\n",
    "\n",
    "#普通参数，只是按照位置传递，容易出错\n",
    "stu(n,a,addr)\n",
    "\n",
    "#关键字参数\n",
    "def stu_key(name='No name',age=0,addr='No addr'):\n",
    "    print('I am a student')\n",
    "    print('我叫{0},我今年{1}岁了，我住{2}'.format(name,age,addr))\n",
    "    \n",
    "n = 'jingjing'\n",
    "a = 18\n",
    "addr = '我家'\n",
    "\n",
    "stu_key(name=n, age=a, addr=addr)"
   ]
  },
  {
   "cell_type": "markdown",
   "metadata": {},
   "source": [
    "## 收集参数\n",
    "\n",
    "  - 把没有位置，不能和定义时的参数位置相对应的参数，放入一个特定的数据结构中\n",
    "  - 语法\n",
    "  \n",
    "                    def func(*args):\n",
    "                        func_body\n",
    "                        按照list使用方式访问args得到传入参数\n",
    "                        \n",
    "                    #调用\n",
    "                    func(p1,p2,p3.......)\n",
    "  - 参数名args不是必须这么写，但是约定俗称使用args\n",
    "  - 参数名args钱需要有星号\n",
    "  - 收集参数可以和其他参数共存"
   ]
  },
  {
   "cell_type": "code",
   "execution_count": 11,
   "metadata": {},
   "outputs": [
    {
     "name": "stdout",
     "output_type": "stream",
     "text": [
      "Hello,大家好\n",
      "<class 'tuple'>\n",
      "liuyang\n",
      "18\n",
      "北京市通州区\n",
      "wangxiaojing\n",
      "single\n",
      "Hello,大家好\n",
      "<class 'tuple'>\n",
      "zhoudashen\n"
     ]
    }
   ],
   "source": [
    "# 收集参数代码\n",
    "# 函数模拟一个学生进行自我介绍，但具体内容不清楚\n",
    "# args看作一个list\n",
    "\n",
    "def stu( *args):\n",
    "    print('Hello,大家好')\n",
    "    # type函数作用是检测变量的类型\n",
    "    print(type(args))\n",
    "    for item in args:\n",
    "        print(item)\n",
    "\n",
    "stu('liuyang', 18, '北京市通州区', 'wangxiaojing', 'single')\n",
    "\n",
    "stu('zhoudashen')"
   ]
  },
  {
   "cell_type": "code",
   "execution_count": 14,
   "metadata": {},
   "outputs": [
    {
     "name": "stdout",
     "output_type": "stream",
     "text": [
      "Hello,大家好\n",
      "<class 'tuple'>\n"
     ]
    }
   ],
   "source": [
    "# 收集参数案例\n",
    "# 说明收集参数可以不带任何实参调用，此时收集参数位空tuple\n",
    "stu()"
   ]
  },
  {
   "cell_type": "code",
   "execution_count": 15,
   "metadata": {},
   "outputs": [
    {
     "ename": "TypeError",
     "evalue": "stu() got an unexpected keyword argument 'name'",
     "output_type": "error",
     "traceback": [
      "\u001b[1;31m---------------------------------------------------------------------------\u001b[0m",
      "\u001b[1;31mTypeError\u001b[0m                                 Traceback (most recent call last)",
      "\u001b[1;32m<ipython-input-15-f1f3320e6f49>\u001b[0m in \u001b[0;36m<module>\u001b[1;34m()\u001b[0m\n\u001b[0;32m      1\u001b[0m \u001b[1;31m# 如果使用关键字参数格式调用，会出现问题\u001b[0m\u001b[1;33m\u001b[0m\u001b[1;33m\u001b[0m\u001b[0m\n\u001b[0;32m      2\u001b[0m \u001b[1;33m\u001b[0m\u001b[0m\n\u001b[1;32m----> 3\u001b[1;33m \u001b[0mstu\u001b[0m\u001b[1;33m(\u001b[0m\u001b[0mname\u001b[0m\u001b[1;33m=\u001b[0m\u001b[1;34m'liuyang'\u001b[0m\u001b[1;33m)\u001b[0m\u001b[1;33m\u001b[0m\u001b[0m\n\u001b[0m",
      "\u001b[1;31mTypeError\u001b[0m: stu() got an unexpected keyword argument 'name'"
     ]
    }
   ],
   "source": [
    "# 如果使用关键字参数格式调用，会出现问题\n",
    "\n",
    "stu(name='liuyang')"
   ]
  },
  {
   "cell_type": "markdown",
   "metadata": {},
   "source": [
    "### 收集参数之关键字收集参数\n",
    "  - 把关键字参数按照字典格式存入收集参数\n",
    "  - 语法\n",
    "   \n",
    "                     def func ( **kwargs):\n",
    "                          func_body\n",
    "                          \n",
    "                     #调用\n",
    "                     func(p1=v1,p2=v2,........)\n",
    "                     \n",
    "  - kwargs约定俗成\n",
    "  - 调用的时候，把多余的关键字参数放入kwargs\n",
    "  - 访问kwargs需要按照字典格式访问\n",
    "  "
   ]
  },
  {
   "cell_type": "code",
   "execution_count": 48,
   "metadata": {},
   "outputs": [
    {
     "name": "stdout",
     "output_type": "stream",
     "text": [
      "hello大家好\n",
      "<class 'dict'>\n",
      "name --- liuyang\n",
      "age --- 10\n",
      "addr --- tongzhou\n",
      "love --- wangxiaojing\n",
      "work --- teacher\n",
      "********************\n",
      "hello大家好\n",
      "<class 'dict'>\n",
      "name --- zhoudashen\n"
     ]
    }
   ],
   "source": [
    "# 收集参数案例\n",
    "# 自我介绍\n",
    "# 调用的时候需要使用关键字参数调用\n",
    "\n",
    "def stu(**kwargs):\n",
    "    print('hello大家好')\n",
    "    print(type(kwargs))\n",
    "    # 对于字典的访问，Python2和Python3有区别\n",
    "    for k,v in kwargs.items():\n",
    "        print(k, '---', v)\n",
    "\n",
    "stu(name='liuyang', age=10, addr='tongzhou', love='wangxiaojing', work='teacher')\n",
    "\n",
    "print('*'*20)\n",
    "\n",
    "stu(name='zhoudashen')"
   ]
  },
  {
   "cell_type": "code",
   "execution_count": 24,
   "metadata": {},
   "outputs": [
    {
     "name": "stdout",
     "output_type": "stream",
     "text": [
      "hello大家好\n",
      "<class 'dict'>\n"
     ]
    }
   ],
   "source": [
    "# 收集参数可以为空参数\n",
    "stu()"
   ]
  },
  {
   "cell_type": "markdown",
   "metadata": {},
   "source": [
    "### 手机参数混合调用的顺序问题\n",
    "  - 收集参数，关键字参数，普通参数可以混合使用\n",
    "  - 使用规则就是，普通参数和关键字参数优先\n",
    "  - 定义的时候一般找普通参数，关键字参数，收集参数tuple，收集参数dict"
   ]
  },
  {
   "cell_type": "code",
   "execution_count": 60,
   "metadata": {},
   "outputs": [
    {
     "name": "stdout",
     "output_type": "stream",
     "text": [
      "Hello大家好\n",
      "我叫liuyang,我今年19大了。\n",
      "我的爱好是游泳\n",
      "********************\n",
      "####################\n",
      "Hello大家好\n",
      "我叫liuyang,我今年19大了。\n",
      "我没有爱好\n",
      "********************\n",
      "####################\n",
      "Hello大家好\n",
      "我叫liuyang,我今年19大了。\n",
      "我的爱好是游泳\n",
      "********************\n",
      "wangixoajing\n",
      "liushitou\n",
      "####################\n",
      "hobby2 -- 聊天\n"
     ]
    }
   ],
   "source": [
    "# 收集参数混合调用案例\n",
    "# stu模拟一个学生的自我介绍\n",
    "\n",
    "def stu(name, age, *args, hobby='没有',  **kwargs):\n",
    "    print('Hello大家好')\n",
    "    print('我叫{0},我今年{1}大了。'.format(name,age))\n",
    "    if hobby == '没有':\n",
    "        print('我没有爱好')\n",
    "    else:\n",
    "        print('我的爱好是{0}'.format(hobby))\n",
    "    print('*'*20)\n",
    "    \n",
    "    for i in args:\n",
    "        print(i)\n",
    "        \n",
    "    print('#'*20)\n",
    "    \n",
    "    for k,v in kwargs.items():\n",
    "        print(k, '--', v)\n",
    "    \n",
    "        \n",
    "#开始调用函数\n",
    "\n",
    "name = 'liuyang'\n",
    "age = 19\n",
    "\n",
    "stu(name,age,hobby='游泳')\n",
    "stu(name, age)\n",
    "stu(name, age,  'wangixoajing', 'liushitou', hobby='游泳', hobby2='聊天')"
   ]
  },
  {
   "cell_type": "markdown",
   "metadata": {},
   "source": [
    "### 收集参数的解包问题\n",
    "\n",
    "  - 把参数放入list或者dict中，直接把list或dict的值放入收集参数中\n",
    "  - 语法：看案例"
   ]
  },
  {
   "cell_type": "code",
   "execution_count": 5,
   "metadata": {},
   "outputs": [
    {
     "name": "stdout",
     "output_type": "stream",
     "text": [
      "哈哈哈哈\n",
      "<class 'list'>\n",
      "0\n",
      "['liuyang', 19, 23, 'wangxiaojing']\n",
      "哈哈哈哈\n",
      "<class 'str'>\n",
      "0\n",
      "liuyang\n",
      "<class 'int'>\n",
      "1\n",
      "19\n",
      "<class 'int'>\n",
      "2\n",
      "23\n",
      "<class 'str'>\n",
      "3\n",
      "wangxiaojing\n"
     ]
    }
   ],
   "source": [
    "# 收集参数的解包问题\n",
    "\n",
    "def stu(*args):\n",
    "    print('哈哈哈哈')\n",
    "    #n用来表示循环次数\n",
    "    n = 0\n",
    "    for i in args:\n",
    "        print(type(i))\n",
    "        print(n)\n",
    "        n += 1\n",
    "        print(i)\n",
    "\n",
    "        \n",
    "#stu('liuyang', 'liuxiaoying', 19, 200)\n",
    "l = ['liuyang',19,23,'wangxiaojing']\n",
    "#此时，args的表示形式是字典内的一个list类型的元素，即arg = (['liuyang',19,23,'wangxiaojing'],)\n",
    "\n",
    "stu(l)\n",
    "#此时的调用，我们就需要解包符号，即调用的时候前面加一个星号\n",
    "stu(*l)"
   ]
  },
  {
   "cell_type": "markdown",
   "metadata": {},
   "source": [
    "# 同理，dict类型收集参数一样可以解包，但是\n",
    "  - 对dict类型解包需要用两个星号"
   ]
  },
  {
   "cell_type": "markdown",
   "metadata": {},
   "source": [
    "# 返回值\n",
    "  - 函数和过程的区别\n",
    "    - 有无返回值\n",
    "  - 需要用return显示返回内容\n",
    "  - 如果没有返回，则默认返回None\n",
    "  - 推荐写法，无论有无返回值，最后都要以return结束"
   ]
  },
  {
   "cell_type": "code",
   "execution_count": 10,
   "metadata": {},
   "outputs": [
    {
     "name": "stdout",
     "output_type": "stream",
     "text": [
      "有返回值\n",
      "1\n",
      "没有返回值\n",
      "None\n"
     ]
    }
   ],
   "source": [
    "# 返回值示例\n",
    "\n",
    "def func_1():\n",
    "    print('有返回值')\n",
    "    return 1\n",
    "\n",
    "def func_2():\n",
    "    print('没有返回值')\n",
    "f1 = func_1()\n",
    "print(f1)\n",
    "\n",
    "f2 = func_2()\n",
    "print(f2)"
   ]
  },
  {
   "cell_type": "markdown",
   "metadata": {},
   "source": [
    "# 函数文档\n",
    "  - 函数的文档的作用是对当前函数提供使用相关的参考消息\n",
    "  - 文档的写法\n",
    "    - 在函数内部开始的第一行使用三字符串定义符\n",
    "    - 一般具有特定格式\n",
    "    - 参看案例"
   ]
  },
  {
   "cell_type": "code",
   "execution_count": 19,
   "metadata": {},
   "outputs": [],
   "source": [
    "# 文档案例\n",
    "# 函数stu是模拟一个学生的自我介绍的内容\n",
    "def stu(name,age,*args):\n",
    "    '''\n",
    "    这是文档\n",
    "    这是第二行\n",
    "    '''\n",
    "    print('This is hanshu stu')\n",
    "    \n"
   ]
  },
  {
   "cell_type": "code",
   "execution_count": 21,
   "metadata": {},
   "outputs": [
    {
     "name": "stdout",
     "output_type": "stream",
     "text": [
      "Help on function stu in module __main__:\n",
      "\n",
      "stu(name, age, *args)\n",
      "    这是文档\n",
      "    这是第二行\n",
      "\n"
     ]
    },
    {
     "data": {
      "text/plain": [
       "'\\n    这是文档\\n    这是第二行\\n    '"
      ]
     },
     "execution_count": 21,
     "metadata": {},
     "output_type": "execute_result"
    }
   ],
   "source": [
    "help(stu)\n",
    "stu.__doc__"
   ]
  },
  {
   "cell_type": "code",
   "execution_count": 24,
   "metadata": {},
   "outputs": [
    {
     "name": "stdout",
     "output_type": "stream",
     "text": [
      "Help on function stu in module __main__:\n",
      "\n",
      "stu(name, age)\n",
      "    这是文档的文字内容\n",
      "    :param name: 表示学生姓名\n",
      "    :param age: 表示学生年龄\n",
      "    :return: 没有返回值\n",
      "\n",
      "None\n",
      "********************\n",
      "\n",
      "    这是文档的文字内容\n",
      "    :param name: 表示学生姓名\n",
      "    :param age: 表示学生年龄\n",
      "    :return: 没有返回值\n",
      "    \n"
     ]
    }
   ],
   "source": [
    "def stu(name,age):\n",
    "    '''\n",
    "    这是文档的文字内容\n",
    "    :param name: 表示学生姓名\n",
    "    :param age: 表示学生年龄\n",
    "    :return: 没有返回值\n",
    "    '''\n",
    "    pass\n",
    "\n",
    "print(help(stu))\n",
    "\n",
    "print(\"*\" * 20)\n",
    "print(stu.__doc__)"
   ]
  },
  {
   "cell_type": "code",
   "execution_count": null,
   "metadata": {},
   "outputs": [],
   "source": []
  }
 ],
 "metadata": {
  "kernelspec": {
   "display_name": "Python 3",
   "language": "python",
   "name": "python3"
  },
  "language_info": {
   "codemirror_mode": {
    "name": "ipython",
    "version": 3
   },
   "file_extension": ".py",
   "mimetype": "text/x-python",
   "name": "python",
   "nbconvert_exporter": "python",
   "pygments_lexer": "ipython3",
   "version": "3.7.0"
  }
 },
 "nbformat": 4,
 "nbformat_minor": 2
}
