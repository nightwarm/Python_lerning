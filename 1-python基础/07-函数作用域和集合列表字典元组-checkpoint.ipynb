{
 "cells": [
  {
   "cell_type": "markdown",
   "metadata": {},
   "source": [
    "# 变量作用域\n",
    "  - 变量由作用范围限制\n",
    "  - 分类：按照作用域分类\n",
    "    - 全局（global）：在函数外部定义\n",
    "    - 局部（local）：在函数内部定义\n",
    "  - 变量的作用范围：\n",
    "    - 全局：在整个的全局范围都有效\n",
    "    - 全局变量在局部可以使用（即函数内部可以访问函数外部定义的变量）\n",
    "    - 局部变量在局部范围可以使用\n",
    "    - 局部变量在全局范围无法使用\n",
    "  - LEGB原则\n",
    "    - L（local）局部作用域\n",
    "    - E（enclosing function locale）外部嵌套函数作用域\n",
    "    - G（Global module）函数定义所在模块作用域\n",
    "    - B（Building）：Python内置魔抗的作用域\n",
    "    \n",
    "  "
   ]
  },
  {
   "cell_type": "code",
   "execution_count": 3,
   "metadata": {},
   "outputs": [
    {
     "name": "stdout",
     "output_type": "stream",
     "text": [
      "100\n",
      "100\n",
      "I am in fun\n",
      "99\n"
     ]
    }
   ],
   "source": [
    "#认为a1是全局的\n",
    "a1 = 100\n",
    "def fun():\n",
    "    print(a1)\n",
    "    print('I am in fun')\n",
    "    a2 = 99\n",
    "    #a2的作用范围是fun()\n",
    "    \n",
    "    print(a2)\n",
    "    \n",
    "print(a1)\n",
    "fun()\n",
    "#print(a2)"
   ]
  },
  {
   "cell_type": "markdown",
   "metadata": {},
   "source": [
    "# 提升局部变量为全局变量\n",
    "  - 使用global\n",
    "  - 案例如下"
   ]
  },
  {
   "cell_type": "code",
   "execution_count": 25,
   "metadata": {},
   "outputs": [
    {
     "name": "stdout",
     "output_type": "stream",
     "text": [
      "100\n",
      "I am in fun\n",
      "99\n",
      "100\n"
     ]
    }
   ],
   "source": [
    "def fun():\n",
    "    global b1\n",
    "    b1 = 100\n",
    "    print(b1)\n",
    "    print('I am in fun')\n",
    "    b2 = 99\n",
    "    print(b2)\n",
    "    \n",
    "\n",
    "fun()\n",
    "print(b1)"
   ]
  },
  {
   "cell_type": "markdown",
   "metadata": {},
   "source": [
    "# globals,locals函数\n",
    "  - 可以通过globals和locals显示出局部变量和全局变量\n",
    "  - 参看案例"
   ]
  },
  {
   "cell_type": "code",
   "execution_count": 10,
   "metadata": {},
   "outputs": [
    {
     "name": "stdout",
     "output_type": "stream",
     "text": [
      "locals={'c': 100, 'd': 200, 'e': 111}\n",
      "Globals={'__name__': '__main__', '__doc__': 'Automatically created module for IPython interactive environment', '__package__': None, '__loader__': None, '__spec__': None, '__builtin__': <module 'builtins' (built-in)>, '__builtins__': <module 'builtins' (built-in)>, '_ih': ['', \"#认为a1是全局的\\na1 = 100\\ndef fun():\\n    print(a)\\n    print('I am in fun')\\n    a2 = 99\\n    #a2的作用范围是fun()\\n    \\n    print(a2)\\n    \\nprint(a1)\\nfun()\\nprint(a2)\", \"#认为a1是全局的\\na1 = 100\\ndef fun():\\n    print(a)\\n    print('I am in fun')\\n    a2 = 99\\n    #a2的作用范围是fun()\\n    \\n    print(a2)\\n    \\nprint(a1)\\nfun()\\n#print(a2)\", \"#认为a1是全局的\\na1 = 100\\ndef fun():\\n    print(a1)\\n    print('I am in fun')\\n    a2 = 99\\n    #a2的作用范围是fun()\\n    \\n    print(a2)\\n    \\nprint(a1)\\nfun()\\n#print(a2)\", \"def fun():\\n    global b1 = 100\\n    print(b1)\\n    print('I am in fun')\\n    b2 = 99\\n    print(b2)\\n    \\nprint(b1)\\nfun()\", \"def fun():\\n    global b1\\n    b1 = 100\\n    print(b1)\\n    print('I am in fun')\\n    b2 = 99\\n    print(b2)\\n    \\nprint(b1)\\nfun()\", \"def fun():\\n    global b1\\n    b1 = 100\\n    print(b1)\\n    print('I am in fun')\\n    b2 = 99\\n    print(b2)\\n    \\nprint(b1)\\nfun()\", \"# globals和locals\\na = 1\\nb = 2\\n def fun(c,d):\\n        e = 111\\n        print('locals={0}'.format(locals()))\\n        print('Globals={0}'.format(globals()))\\nfun(100,200)\", \"# globals和locals\\na = 1\\nb = 2\\ndef fun(c,d):\\n     e = 111\\n        print('locals={0}'.format(locals()))\\n        print('Globals={0}'.format(globals()))\\nfun(100,200)\", \"# globals和locals\\na = 1\\nb = 2\\ndef fun(c,d):\\n    e = 111\\n    print('locals={0}'.format(locals()))\\n    print('Globals={0}'.format(globals()))\\nfun(100,200)\", \"# globals和locals\\n# globals和locals叫做内建函数\\na = 1\\nb = 2\\ndef fun(c,d):\\n    e = 111\\n    print('locals={0}'.format(locals()))\\n    print('Globals={0}'.format(globals()))\\nfun(100,200)\"], '_oh': {}, '_dh': ['C:\\\\Users\\\\night\\\\课程'], 'In': ['', \"#认为a1是全局的\\na1 = 100\\ndef fun():\\n    print(a)\\n    print('I am in fun')\\n    a2 = 99\\n    #a2的作用范围是fun()\\n    \\n    print(a2)\\n    \\nprint(a1)\\nfun()\\nprint(a2)\", \"#认为a1是全局的\\na1 = 100\\ndef fun():\\n    print(a)\\n    print('I am in fun')\\n    a2 = 99\\n    #a2的作用范围是fun()\\n    \\n    print(a2)\\n    \\nprint(a1)\\nfun()\\n#print(a2)\", \"#认为a1是全局的\\na1 = 100\\ndef fun():\\n    print(a1)\\n    print('I am in fun')\\n    a2 = 99\\n    #a2的作用范围是fun()\\n    \\n    print(a2)\\n    \\nprint(a1)\\nfun()\\n#print(a2)\", \"def fun():\\n    global b1 = 100\\n    print(b1)\\n    print('I am in fun')\\n    b2 = 99\\n    print(b2)\\n    \\nprint(b1)\\nfun()\", \"def fun():\\n    global b1\\n    b1 = 100\\n    print(b1)\\n    print('I am in fun')\\n    b2 = 99\\n    print(b2)\\n    \\nprint(b1)\\nfun()\", \"def fun():\\n    global b1\\n    b1 = 100\\n    print(b1)\\n    print('I am in fun')\\n    b2 = 99\\n    print(b2)\\n    \\nprint(b1)\\nfun()\", \"# globals和locals\\na = 1\\nb = 2\\n def fun(c,d):\\n        e = 111\\n        print('locals={0}'.format(locals()))\\n        print('Globals={0}'.format(globals()))\\nfun(100,200)\", \"# globals和locals\\na = 1\\nb = 2\\ndef fun(c,d):\\n     e = 111\\n        print('locals={0}'.format(locals()))\\n        print('Globals={0}'.format(globals()))\\nfun(100,200)\", \"# globals和locals\\na = 1\\nb = 2\\ndef fun(c,d):\\n    e = 111\\n    print('locals={0}'.format(locals()))\\n    print('Globals={0}'.format(globals()))\\nfun(100,200)\", \"# globals和locals\\n# globals和locals叫做内建函数\\na = 1\\nb = 2\\ndef fun(c,d):\\n    e = 111\\n    print('locals={0}'.format(locals()))\\n    print('Globals={0}'.format(globals()))\\nfun(100,200)\"], 'Out': {}, 'get_ipython': <bound method InteractiveShell.get_ipython of <ipykernel.zmqshell.ZMQInteractiveShell object at 0x000001B7AA0FB978>>, 'exit': <IPython.core.autocall.ZMQExitAutocall object at 0x000001B7AA250898>, 'quit': <IPython.core.autocall.ZMQExitAutocall object at 0x000001B7AA250898>, '_': '', '__': '', '___': '', '_i': \"# globals和locals\\na = 1\\nb = 2\\ndef fun(c,d):\\n    e = 111\\n    print('locals={0}'.format(locals()))\\n    print('Globals={0}'.format(globals()))\\nfun(100,200)\", '_ii': \"# globals和locals\\na = 1\\nb = 2\\ndef fun(c,d):\\n     e = 111\\n        print('locals={0}'.format(locals()))\\n        print('Globals={0}'.format(globals()))\\nfun(100,200)\", '_iii': \"# globals和locals\\na = 1\\nb = 2\\n def fun(c,d):\\n        e = 111\\n        print('locals={0}'.format(locals()))\\n        print('Globals={0}'.format(globals()))\\nfun(100,200)\", '_i1': \"#认为a1是全局的\\na1 = 100\\ndef fun():\\n    print(a)\\n    print('I am in fun')\\n    a2 = 99\\n    #a2的作用范围是fun()\\n    \\n    print(a2)\\n    \\nprint(a1)\\nfun()\\nprint(a2)\", 'a1': 100, 'fun': <function fun at 0x000001B7AA344730>, '_i2': \"#认为a1是全局的\\na1 = 100\\ndef fun():\\n    print(a)\\n    print('I am in fun')\\n    a2 = 99\\n    #a2的作用范围是fun()\\n    \\n    print(a2)\\n    \\nprint(a1)\\nfun()\\n#print(a2)\", '_i3': \"#认为a1是全局的\\na1 = 100\\ndef fun():\\n    print(a1)\\n    print('I am in fun')\\n    a2 = 99\\n    #a2的作用范围是fun()\\n    \\n    print(a2)\\n    \\nprint(a1)\\nfun()\\n#print(a2)\", '_i4': \"def fun():\\n    global b1 = 100\\n    print(b1)\\n    print('I am in fun')\\n    b2 = 99\\n    print(b2)\\n    \\nprint(b1)\\nfun()\", '_i5': \"def fun():\\n    global b1\\n    b1 = 100\\n    print(b1)\\n    print('I am in fun')\\n    b2 = 99\\n    print(b2)\\n    \\nprint(b1)\\nfun()\", '_i6': \"def fun():\\n    global b1\\n    b1 = 100\\n    print(b1)\\n    print('I am in fun')\\n    b2 = 99\\n    print(b2)\\n    \\nprint(b1)\\nfun()\", '_i7': \"# globals和locals\\na = 1\\nb = 2\\n def fun(c,d):\\n        e = 111\\n        print('locals={0}'.format(locals()))\\n        print('Globals={0}'.format(globals()))\\nfun(100,200)\", '_i8': \"# globals和locals\\na = 1\\nb = 2\\ndef fun(c,d):\\n     e = 111\\n        print('locals={0}'.format(locals()))\\n        print('Globals={0}'.format(globals()))\\nfun(100,200)\", '_i9': \"# globals和locals\\na = 1\\nb = 2\\ndef fun(c,d):\\n    e = 111\\n    print('locals={0}'.format(locals()))\\n    print('Globals={0}'.format(globals()))\\nfun(100,200)\", 'a': 1, 'b': 2, '_i10': \"# globals和locals\\n# globals和locals叫做内建函数\\na = 1\\nb = 2\\ndef fun(c,d):\\n    e = 111\\n    print('locals={0}'.format(locals()))\\n    print('Globals={0}'.format(globals()))\\nfun(100,200)\"}\n"
     ]
    }
   ],
   "source": [
    "# globals和locals\n",
    "# globals和locals叫做内建函数\n",
    "a = 1\n",
    "b = 2\n",
    "def fun(c,d):\n",
    "    e = 111\n",
    "    print('locals={0}'.format(locals()))\n",
    "    print('Globals={0}'.format(globals()))\n",
    "fun(100,200)"
   ]
  },
  {
   "cell_type": "markdown",
   "metadata": {},
   "source": [
    "# eval()函数\n",
    "  - 把一个字符串当成一个表达式来执行，返回表达式执行后的结果\n",
    "  - 语法\n",
    "               \n",
    "               eval(string_code,globals=None, locals=None)\n",
    "               \n",
    "# exec()函数\n",
    "  - 跟eval功能类似，但是不返回结果\n",
    "  - 语法\n",
    "               \n",
    "               exec(string_code,globals=None, locals=None)\n",
    "               "
   ]
  },
  {
   "cell_type": "code",
   "execution_count": 18,
   "metadata": {},
   "outputs": [
    {
     "name": "stdout",
     "output_type": "stream",
     "text": [
      "300\n",
      "300\n"
     ]
    }
   ],
   "source": [
    "x = 100\n",
    "y = 200\n",
    "z1 = x+y\n",
    "z2 = eval('x+y')\n",
    "print(z1)\n",
    "print(z2)"
   ]
  },
  {
   "cell_type": "code",
   "execution_count": 19,
   "metadata": {},
   "outputs": [
    {
     "name": "stdout",
     "output_type": "stream",
     "text": [
      "x+y: 300\n",
      "None\n",
      "300\n"
     ]
    }
   ],
   "source": [
    "#exec示例\n",
    "x = 100\n",
    "y = 200\n",
    "z1 = exec(\"print('x+y:',x+y)\")\n",
    "z2 = x+y\n",
    "print(z1)\n",
    "print(z2)"
   ]
  },
  {
   "cell_type": "markdown",
   "metadata": {},
   "source": [
    "# 递归函数\n",
    "  - 函数直接或者间接调用自身\n",
    "  - 优点：简洁，理解容易\n",
    "  - 缺点：对递归深度有限制，消耗资源大\n",
    "  - Python对递归深度有限制，超过限制报错\n",
    "  - 在写递归程序的时候，一定注意结束条件"
   ]
  },
  {
   "cell_type": "code",
   "execution_count": null,
   "metadata": {},
   "outputs": [],
   "source": [
    "# 递归调用深度限制代码\n",
    "x = 0\n",
    "\n",
    "def fun():\n",
    "    global x\n",
    "    x += 1\n",
    "    print(x)\n",
    "    #函数自己调用自己\n",
    "    fun()\n",
    "    \n",
    "#调用函数\n",
    "fun()"
   ]
  },
  {
   "cell_type": "code",
   "execution_count": 28,
   "metadata": {},
   "outputs": [
    {
     "data": {
      "text/plain": [
       "2"
      ]
     },
     "execution_count": 28,
     "metadata": {},
     "output_type": "execute_result"
    }
   ],
   "source": [
    "# 斐波那契额数列\n",
    "# 一列数字，第一个是1，第二个也是1，从第三个开始，每一个数字等于前两个数字出现的值的和\n",
    "# 数学公式为：f(1) = 1, f(2) = 1, f(n) = f(n-2) + f(n-1)\n",
    "#例如：1，1，2，3，5，8，13........\n",
    "\n",
    "#如果n一开始就是负数如何修改\n",
    "# n表示求第n个斐波那契数列的值\n",
    "def fib(n):\n",
    "    if n == 1:\n",
    "        return 1\n",
    "    if n == 2:\n",
    "        return 1\n",
    "    #为什么后面return能够正确执行，而不用else语句\n",
    "    return fib(n-1) + fib(n-2)\n",
    "fib(3)   "
   ]
  },
  {
   "cell_type": "markdown",
   "metadata": {},
   "source": [
    "# 内置数据结构（变量类型）\n",
    "  - list \n",
    "  - set\n",
    "  - dict\n",
    "  - tuple\n",
    "## list（列表）\n",
    "  - 一组有顺序的数据的组合\n",
    "  - 创建列表\n",
    "    - 空列表"
   ]
  },
  {
   "cell_type": "code",
   "execution_count": 35,
   "metadata": {},
   "outputs": [
    {
     "name": "stdout",
     "output_type": "stream",
     "text": [
      "<class 'list'>\n",
      "[]\n",
      "<class 'list'>\n",
      "[100]\n",
      "<class 'list'>\n",
      "[2, 3, 1, 4, 6, 4, 6]\n",
      "<class 'list'>\n",
      "[]\n"
     ]
    }
   ],
   "source": [
    "# 创建空列表\n",
    "l1 = []\n",
    "print(type(l1))\n",
    "print(l1)\n",
    "\n",
    "#创建带值的列表\n",
    "l2 = [100]\n",
    "print(type(l2))\n",
    "print(l2)\n",
    "\n",
    "#创建列表，带多个值\n",
    "l3 = [2,3,1,4,6,4,6]\n",
    "print(type(l3))\n",
    "print(l3)\n",
    "\n",
    "#使用list\n",
    "l4 = list()\n",
    "print(type(l4))\n",
    "print(l4)"
   ]
  },
  {
   "cell_type": "markdown",
   "metadata": {},
   "source": [
    "## 列表常用操作\n",
    "  - 访问\n",
    "    - 使用下标操作（索引）\n",
    "    - 列表的位置是从0开始\n",
    "  - 分片操作\n",
    "    - 对列表进行任意一段的截取\n",
    "    - l[:]\n"
   ]
  },
  {
   "cell_type": "code",
   "execution_count": 49,
   "metadata": {},
   "outputs": [
    {
     "name": "stdout",
     "output_type": "stream",
     "text": [
      "4\n",
      "[2, 1]\n",
      "[2, 1, 4, 6, 6, 3, 2]\n",
      "[3, 2, 1, 4, 6, 6, 3, 2]\n",
      "[2, 4, 6]\n",
      "[2, 1, 4, 6, 6, 3, 2]\n",
      "[]\n",
      "[6, 6]\n",
      "[3, 6]\n"
     ]
    }
   ],
   "source": [
    "# 下标访问列表\n",
    "l = [3,2,1,4,6,6,3,2]\n",
    "print(l[3])\n",
    "#注意截取的范围，包含左边的下标值，不半酣右边的下标值\n",
    "print(l[1:3])\n",
    "#下标值可以为空，如果不写，左边下标默认为0，右边下标值为最大数加一，表示最后一个数\n",
    "print(l[1:])\n",
    "print(l[:])\n",
    "\n",
    "#分片可以控制增长幅度，默认为1\n",
    "print(l[1:6:2])\n",
    "\n",
    "# 下标可以超出范围，超出后不再考虑多余下表的内容\n",
    "\n",
    "print(l[1:10])\n",
    "\n",
    "#下标值，增长幅度可以为负数\n",
    "#为负数表明顺序从右往左\n",
    "#规定：数组最后的一个数字的下标是-1\n",
    "#下面显示的为空，因为默认分片总是从左向右截取\n",
    "print(l[-2:-4])\n",
    "\n",
    "#有值,如果分片，一定左边值比右边大，则步长参数需要使用负数\n",
    "print(l[-4:-2])\n",
    "\n",
    "#如果分片一定左边值比右边大，则步长参数需要使用负数,list正反颠倒的一种思路\n",
    "print(l[-2:-4:-1])"
   ]
  },
  {
   "cell_type": "markdown",
   "metadata": {},
   "source": [
    "## 分片操作是生成一个新的list\n",
    "  - 内置函数id，负责显示一个变量或者函数的唯一确定编号"
   ]
  },
  {
   "cell_type": "code",
   "execution_count": 53,
   "metadata": {},
   "outputs": [
    {
     "name": "stdout",
     "output_type": "stream",
     "text": [
      "140726574512992\n",
      "140726574516192\n",
      "140726574512992\n",
      "101\n",
      "100\n"
     ]
    }
   ],
   "source": [
    "# id函数举例\n",
    "\n",
    "a = 100\n",
    "b = 200\n",
    "print(id(a))\n",
    "print(id(b))\n",
    "\n",
    "c = a\n",
    "print(id(c))\n",
    "\n",
    "#如果a跟c只想一份数据，则更改a的值同样也要更改c的值\n",
    "\n",
    "a = 101\n",
    "print(a)\n",
    "print(c)"
   ]
  },
  {
   "cell_type": "code",
   "execution_count": 57,
   "metadata": {},
   "outputs": [
    {
     "name": "stdout",
     "output_type": "stream",
     "text": [
      "1888350821448\n",
      "1888350820744\n",
      "1888350820744\n",
      "[3, 100, 56, 78, 9, 8, 9, 65, 4]\n",
      "[3, 4, 56, 78, 9, 8, 9, 65, 4]\n",
      "[3, 100, 56, 78, 9, 8, 9, 65, 4]\n",
      "[3, 100, 56, 78, 9, 8, 9, 65, 4]\n"
     ]
    }
   ],
   "source": [
    "# 通过id可以直接判断出来分辨是从新生成了一份数据还是使用的同一份数据\n",
    "\n",
    "l = [3,4,56,78,9,8,9,65,4]\n",
    "ll = l[:]\n",
    "lll = ll\n",
    "#如果两个id值一样，则表明分片产生的列表是使用的同一地址的同一份数据\n",
    "#否则，则表明分辨是重新生成了一份数据，即一个新的列表，然后把数值拷贝到新的列表中\n",
    "\n",
    "print(id(l))\n",
    "print(id(ll))\n",
    "print(id(lll))\n",
    "\n",
    "# 通过id知道ll和lll是同一份数据，验证代码如下：\n",
    "l[1] = 100\n",
    "print(l)\n",
    "print(ll)\n",
    "\n",
    "ll[1] = 100\n",
    "print(ll)\n",
    "print(lll)"
   ]
  }
 ],
 "metadata": {
  "kernelspec": {
   "display_name": "Python 3",
   "language": "python",
   "name": "python3"
  },
  "language_info": {
   "codemirror_mode": {
    "name": "ipython",
    "version": 3
   },
   "file_extension": ".py",
   "mimetype": "text/x-python",
   "name": "python",
   "nbconvert_exporter": "python",
   "pygments_lexer": "ipython3",
   "version": "3.7.0"
  }
 },
 "nbformat": 4,
 "nbformat_minor": 2
}
