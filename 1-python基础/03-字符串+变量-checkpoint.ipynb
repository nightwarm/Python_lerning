{
 "cells": [
  {
   "cell_type": "markdown",
   "metadata": {},
   "source": [
    "## 字符串\n",
    "  - 转义字符\n",
    "  - 格式化\n",
    "  - 内建函数\n",
    "  \n",
    "## 转义字符\n",
    "  - 用一个特殊的方法表示出一系列不方便写出的内容，比如回车键，换行，退格\n",
    "  - 借助反斜杠字符，一旦字符串中出现反斜杠，则反斜杠后面一个或几个字符表示已经不是原来的意思了，进行了转义\n",
    "  - 在字符串中，一旦出现反斜杠就要加倍小心，可能有转义字符出现\n",
    "  - 回车换行 \\r\\n\n",
    "    Windows： \\n\n",
    "    Linux: \\r\\n\n",
    "  "
   ]
  },
  {
   "cell_type": "code",
   "execution_count": null,
   "metadata": {},
   "outputs": [],
   "source": [
    "#如果想表示出let's go来\n",
    "#1.可以使用嵌套引号\n",
    "#2.转义字符\n",
    "\n",
    "s = \"Let's go\"\n",
    "s = 'Let\\'s go'\n",
    "s = 'c:\\\\user'"
   ]
  },
  {
   "cell_type": "markdown",
   "metadata": {},
   "source": [
    "## 字符串的格式化\n",
    "  - 把字符串按照一定格式打印或者填充\n",
    "  - 格式化有两种方法\n",
    "    - 利用百分号\n",
    "    - 利用format函数"
   ]
  },
  {
   "cell_type": "markdown",
   "metadata": {},
   "source": [
    "## 利用百分号格式化\n",
    "  - 在字符串中，利用%表示一个特殊的含义，表示对字符进行格式化\n",
    "  - %d 表示此处应该放入一个整数\n",
    "  - %s 表示此处应该放入一个字符串"
   ]
  },
  {
   "cell_type": "code",
   "execution_count": 3,
   "metadata": {},
   "outputs": [
    {
     "name": "stdout",
     "output_type": "stream",
     "text": [
      "I Love wangxiaoli\n"
     ]
    }
   ],
   "source": [
    "s = \"I Love %s\"%\"wangxiaoli\"\n",
    "print(s)"
   ]
  },
  {
   "cell_type": "code",
   "execution_count": 7,
   "metadata": {},
   "outputs": [
    {
     "name": "stdout",
     "output_type": "stream",
     "text": [
      "I am wangxiaojing ,I am 18 years old\n"
     ]
    }
   ],
   "source": [
    "s = \"I am %s ,I am %d years old\"%(\"wangxiaojing\",18)\n",
    "print(s)\n",
    "# 如果字符串中有占位符，则有几个占位符必须就有几个实际内容代替，或者一个也不要；如果出现多个占位符，则相应内容需要用括号括起来"
   ]
  },
  {
   "cell_type": "markdown",
   "metadata": {},
   "source": [
    "### format函数格式化\n",
    "  - 直接用format函数进行格式化\n",
    "  - 推荐使用\n",
    "  - 在使用上以{}和：代替%号，后面用format带参数表示\n",
    "  - = \"I love{}\",format(\"lixiaojing\")\n",
    "  - = \"Yes, I am {1} years old ,I love {0} and I am {1} years old\".format(\"tulingxueyuan\",18)"
   ]
  },
  {
   "cell_type": "markdown",
   "metadata": {},
   "source": [
    "## None\n",
    "  - 表示什么都没有\n",
    "  - 如果函数没有返回值，可以返回None\n",
    "  - 用来占位\n",
    "  - 用来解除变量的绑定\n",
    "  "
   ]
  },
  {
   "cell_type": "markdown",
   "metadata": {},
   "source": [
    "# 表达式\n",
    "\n",
    "  - 由一个或几个数字或者变量和运算符组合成的一行代码\n",
    "  - 通常会返回一个结果\n",
    "# 运算符\n",
    "  \n",
    "  - 由一个以上的值经过变化得到新值的过程就叫预算\n",
    "  - 用户运算的符号叫运算符\n",
    "  - 运算符分类\n",
    "    - 算数运算符\n",
    "    - 比较或者关系运算符\n",
    "    - 赋值运算符\n",
    "    - 逻辑运算符\n",
    "    - 位运算\n",
    "    - 成员运算"
   ]
  },
  {
   "cell_type": "markdown",
   "metadata": {},
   "source": [
    "## 算数运算符\n",
    "  - 进行算数运算的符号\n",
    "  - Python没有自增自减运算符\n",
    "  "
   ]
  },
  {
   "cell_type": "code",
   "execution_count": 6,
   "metadata": {},
   "outputs": [
    {
     "name": "stdout",
     "output_type": "stream",
     "text": [
      "10\n",
      "2.25\n",
      "1\n",
      "2\n",
      "6561\n"
     ]
    }
   ],
   "source": [
    "# +，- 跟正常算数运算符一模一样\n",
    "a = 9+3-2\n",
    "print(a)\n",
    "# 乘号用*代替\n",
    "# 除号用/代替\n",
    "#在python2和python3中，除号结果可能不一致\n",
    "a = 9/4\n",
    "print(a)\n",
    "\n",
    "#取余预算 %\n",
    "#两个数字相除应该有商有余数\n",
    "# %只会得到余数\n",
    "a = 9%4\n",
    "print(a)\n",
    "\n",
    "# // 表示取商运算，也叫地板除\n",
    "a = 9 // 4\n",
    "print(a)\n",
    "\n",
    "# **表示幂运算\n",
    "a = 9 ** 4\n",
    "print(a)"
   ]
  },
  {
   "cell_type": "markdown",
   "metadata": {},
   "source": [
    "## 比较运算符\n",
    "  - 对两个变量或者值进行比较的运算符\n",
    "  - 比较的结果事布尔值，即True/False"
   ]
  },
  {
   "cell_type": "code",
   "execution_count": null,
   "metadata": {},
   "outputs": [],
   "source": [
    "# == ，等于号\n",
    "a = 3 ** 4\n",
    "#下面语句执行顺序是\n",
    "# 1，计算 a==80\n",
    "# 2，把结果放在b中\n",
    "b = a ==80\n",
    "print(b)\n",
    "\n",
    "# != 不等于\n",
    "print(9 != 8)\n",
    "\n",
    "#>\n",
    "#<\n",
    "#>=\n",
    "#<=\n"
   ]
  },
  {
   "cell_type": "markdown",
   "metadata": {},
   "source": [
    "## 赋值运算符\n"
   ]
  },
  {
   "cell_type": "code",
   "execution_count": null,
   "metadata": {},
   "outputs": [],
   "source": [
    "# = ,赋值\n",
    "# += ，是缩写\n",
    "a = 0\n",
    "a += 7 #a = a +7\n",
    "print(a)\n",
    "\n",
    "#所有数学运算符都有缩写形式\n",
    "# -= ，%= ，*=，/= ，**= "
   ]
  },
  {
   "cell_type": "markdown",
   "metadata": {},
   "source": [
    "# 逻辑运算符\n",
    "  - 对布尔值进行计算的符号\n",
    "  - and 逻辑与\n",
    "  - or 逻辑或\n",
    "  - not 逻辑非\n",
    "  - Python中没有异或运算\n",
    "  - 运算规则\n",
    "    - and 看作乘法，or看作加法，\n",
    "    - True看作1，False看作0\n",
    "    - 则逻辑运算就能转换成整数数学运算\n",
    "    - 最后结果如果是0则为False ，否则为True\n",
    "  - 逻辑运算的短路问题\n",
    "    - 逻辑运算式，按照运算顺序计算，一旦能够确定整个式子未来的值，则不在进行计算，直接返回"
   ]
  },
  {
   "cell_type": "code",
   "execution_count": null,
   "metadata": {},
   "outputs": [],
   "source": [
    "# 逻辑运算的短路案例\n",
    "\n",
    "# 下面的逻辑表达式，a的值一定是True，则运行到or的时候，整个表达式不再向下运算\n",
    "# a = True or xxxxxxxxxxx\n",
    "\n",
    "# 下面表达式，如果xxx中包含赋值表达式，则结果很难预测\n",
    "b = 9\n",
    "a = a or (b = 9) and 6\n",
    "#假定上面表达式没有语法错误\n",
    "#则b的最终值应该是0而不是9"
   ]
  },
  {
   "cell_type": "markdown",
   "metadata": {},
   "source": [
    "# 成员运算符号\n",
    "  - 用来检测某一变量是否是另一个变量的成员\n",
    "  - in\n",
    "  - not in"
   ]
  },
  {
   "cell_type": "code",
   "execution_count": null,
   "metadata": {},
   "outputs": [],
   "source": [
    "#案例\n",
    "l = [1,2.3,4,5]\n",
    "a = 7\n",
    "b = a in l\n",
    "print(b)\n",
    "\n",
    "print(a not in l)"
   ]
  },
  {
   "cell_type": "markdown",
   "metadata": {},
   "source": [
    "## 身份运算\n",
    "\n",
    "  - is ：用来检测两个变量是否是同一个变量\n",
    "    - 语法就是 var1 is var2\n",
    "  - is not ：两个变量不是同一个变量"
   ]
  },
  {
   "cell_type": "markdown",
   "metadata": {},
   "source": [
    "## 运算符的优先级\n",
    "  - 永远记住，括号优先级最高\n",
    "  - 优先级表格\n",
    "  "
   ]
  },
  {
   "cell_type": "markdown",
   "metadata": {},
   "source": [
    "# 程序结构\n",
    "  - 顺序\n",
    "  - 分支\n",
    "  - 循环"
   ]
  }
 ],
 "metadata": {
  "kernelspec": {
   "display_name": "Python 3",
   "language": "python",
   "name": "python3"
  },
  "language_info": {
   "codemirror_mode": {
    "name": "ipython",
    "version": 3
   },
   "file_extension": ".py",
   "mimetype": "text/x-python",
   "name": "python",
   "nbconvert_exporter": "python",
   "pygments_lexer": "ipython3",
   "version": "3.7.0"
  }
 },
 "nbformat": 4,
 "nbformat_minor": 2
}
