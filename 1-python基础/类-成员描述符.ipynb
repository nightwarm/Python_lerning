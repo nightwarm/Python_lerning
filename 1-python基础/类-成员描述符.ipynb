{
 "cells": [
  {
   "cell_type": "code",
   "execution_count": 10,
   "metadata": {},
   "outputs": [
    {
     "name": "stdout",
     "output_type": "stream",
     "text": [
      "haha\n",
      "linda\n"
     ]
    }
   ],
   "source": [
    "# 变量的三种用法\n",
    "class A():\n",
    "    def __init__(self):\n",
    "        self.name = 'haha'\n",
    "        self.age = 18\n",
    "        \n",
    "a = A()\n",
    "# 属性的三种用法\n",
    "# 1.赋值\n",
    "# 2.读取\n",
    "# 3.删除\n",
    "print(a.name)\n",
    "a.name = 'linda'\n",
    "print(a.name)\n",
    "del a.name\n",
    "#print(a.name)"
   ]
  },
  {
   "cell_type": "code",
   "execution_count": 15,
   "metadata": {},
   "outputs": [
    {
     "name": "stdout",
     "output_type": "stream",
     "text": [
      "haha\n",
      "我被读取了\n",
      "haha\n"
     ]
    }
   ],
   "source": [
    "# 类属性 property\n",
    "# 应用场景：\n",
    "# 对变量除了普通的三种操作，还想增加一些附加的操作，那么可以通过property完成\n",
    "class A():\n",
    "    def __init__(self):\n",
    "        self.name = 'haha'\n",
    "        self.age = 18\n",
    "    #此功能，是对变量进行读取操作的时候应该执行的函数功能\n",
    "    def fget(self):\n",
    "        print('我被读取了')\n",
    "        return self.name\n",
    "    # 模拟的是对变量进行写操作的时候执行的功能\n",
    "    def fset(self,name):\n",
    "        print('我被写入了')\n",
    "        self.name = '图灵学院：' + name\n",
    "    # 模拟的是删除变量的时候进行的操作\n",
    "    def fdel(self):\n",
    "        pass\n",
    "    #property的四个参数是固定的\n",
    "    #第一个参数代表读取的时候要调用的函数\n",
    "    #第二个代表写入\n",
    "    #第三个是删除\n",
    "    name2 = property(fget,fset,fdel,'这是一个property的例子')\n",
    "a = A()\n",
    "print(a.name)\n",
    "\n",
    "print(a.name2)"
   ]
  },
  {
   "cell_type": "code",
   "execution_count": 22,
   "metadata": {},
   "outputs": [
    {
     "name": "stdout",
     "output_type": "stream",
     "text": [
      "闻一下对方\n",
      "Kiss\n"
     ]
    }
   ],
   "source": [
    "#抽象\n",
    "class Animal():\n",
    "    def sayHello():\n",
    "        pass\n",
    "class Dog(Animal):\n",
    "    def sayHello(self):\n",
    "        print('闻一下对方')\n",
    "class Person(Animal):\n",
    "    def sayHello(self):\n",
    "        print('Kiss')\n",
    "d = Dog()\n",
    "d.sayHello()\n",
    "p = Person()\n",
    "p.sayHello()"
   ]
  },
  {
   "cell_type": "code",
   "execution_count": 29,
   "metadata": {},
   "outputs": [],
   "source": [
    "# 抽象类的实现\n",
    "import abc\n",
    "#声明一个类并且指定当前类的元类为抽象类提供的元类\n",
    "class Human(metaclass=abc.ABCMeta):\n",
    "    \n",
    "    #定义一个抽象的方法\n",
    "    @abc.abstractmethod\n",
    "    def smoking(self):\n",
    "        pass\n",
    "    # 定义类抽象方法\n",
    "    @abc.abstractclassmethod\n",
    "    def drink():\n",
    "        pass\n",
    "    #定义静态抽象方法\n",
    "    @abc.abstractstaticmethod\n",
    "    def play():\n",
    "        pass\n",
    "    \n",
    "    def sleep(self):\n",
    "        print('sleeping...')"
   ]
  },
  {
   "cell_type": "code",
   "execution_count": 31,
   "metadata": {},
   "outputs": [
    {
     "name": "stdout",
     "output_type": "stream",
     "text": [
      "yueyue你好\n",
      "yueyue你好\n"
     ]
    }
   ],
   "source": [
    "# 函数名可以当变量使用\n",
    "def sayHello(name):\n",
    "    print('{0}你好'.format(name))\n",
    "sayHello('yueyue')\n",
    "liuming = sayHello\n",
    "liuming('yueyue')"
   ]
  },
  {
   "cell_type": "code",
   "execution_count": 34,
   "metadata": {},
   "outputs": [
    {
     "name": "stdout",
     "output_type": "stream",
     "text": [
      "saying...\n",
      "saying...\n",
      "saying...\n"
     ]
    }
   ],
   "source": [
    "# 自己组装一个类\n",
    "class A():\n",
    "    pass\n",
    "def say(self):\n",
    "    print('saying...')\n",
    "class B():\n",
    "    def say(self):\n",
    "        print('saying...')\n",
    "    \n",
    "say(9)\n",
    "A.say = say\n",
    "\n",
    "a = A()\n",
    "a.say()\n",
    "\n",
    "b = B()\n",
    "b.say()"
   ]
  },
  {
   "cell_type": "code",
   "execution_count": 37,
   "metadata": {},
   "outputs": [
    {
     "name": "stdout",
     "output_type": "stream",
     "text": [
      "saying...\n"
     ]
    }
   ],
   "source": [
    "# 组装类例子2\n",
    "from types import MethodType\n",
    "class A():\n",
    "    pass\n",
    "def say(self):\n",
    "    print('saying...')\n",
    "    \n",
    "a = A()\n",
    "a.say = MethodType(say,A)\n",
    "a.say()"
   ]
  },
  {
   "cell_type": "code",
   "execution_count": 39,
   "metadata": {},
   "outputs": [
    {
     "name": "stdout",
     "output_type": "stream",
     "text": [
      "Help on class method in module builtins:\n",
      "\n",
      "class method(object)\n",
      " |  method(function, instance)\n",
      " |  \n",
      " |  Create a bound instance method object.\n",
      " |  \n",
      " |  Methods defined here:\n",
      " |  \n",
      " |  __call__(self, /, *args, **kwargs)\n",
      " |      Call self as a function.\n",
      " |  \n",
      " |  __delattr__(self, name, /)\n",
      " |      Implement delattr(self, name).\n",
      " |  \n",
      " |  __eq__(self, value, /)\n",
      " |      Return self==value.\n",
      " |  \n",
      " |  __ge__(self, value, /)\n",
      " |      Return self>=value.\n",
      " |  \n",
      " |  __get__(self, instance, owner, /)\n",
      " |      Return an attribute of instance, which is of type owner.\n",
      " |  \n",
      " |  __getattribute__(self, name, /)\n",
      " |      Return getattr(self, name).\n",
      " |  \n",
      " |  __gt__(self, value, /)\n",
      " |      Return self>value.\n",
      " |  \n",
      " |  __hash__(self, /)\n",
      " |      Return hash(self).\n",
      " |  \n",
      " |  __le__(self, value, /)\n",
      " |      Return self<=value.\n",
      " |  \n",
      " |  __lt__(self, value, /)\n",
      " |      Return self<value.\n",
      " |  \n",
      " |  __ne__(self, value, /)\n",
      " |      Return self!=value.\n",
      " |  \n",
      " |  __reduce__(...)\n",
      " |      Helper for pickle.\n",
      " |  \n",
      " |  __repr__(self, /)\n",
      " |      Return repr(self).\n",
      " |  \n",
      " |  __setattr__(self, name, value, /)\n",
      " |      Implement setattr(self, name, value).\n",
      " |  \n",
      " |  ----------------------------------------------------------------------\n",
      " |  Static methods defined here:\n",
      " |  \n",
      " |  __new__(*args, **kwargs) from builtins.type\n",
      " |      Create and return a new object.  See help(type) for accurate signature.\n",
      " |  \n",
      " |  ----------------------------------------------------------------------\n",
      " |  Data descriptors defined here:\n",
      " |  \n",
      " |  __func__\n",
      " |      the function (or other callable) implementing a method\n",
      " |  \n",
      " |  __self__\n",
      " |      the instance to which a method is bound\n",
      "\n"
     ]
    }
   ],
   "source": [
    "help(MethodType)"
   ]
  },
  {
   "cell_type": "code",
   "execution_count": 52,
   "metadata": {},
   "outputs": [
    {
     "name": "stdout",
     "output_type": "stream",
     "text": [
      "saying...\n",
      "talking...\n"
     ]
    }
   ],
   "source": [
    "# 利用type造一个类\n",
    "#先定义类应该具有的成员函数\n",
    "def say(self):\n",
    "    print('saying...')\n",
    "def talk(self):\n",
    "    print('talking...')\n",
    "    \n",
    "#用type创建一个类\n",
    "A = type('AName',(object, ),{'class_say':say,'class_talk':talk})\n",
    "# 然后可以像正常访问一样使用类\n",
    "a = A()\n",
    "dir(a)\n",
    "a.class_say()\n",
    "a.class_talk()"
   ]
  },
  {
   "cell_type": "code",
   "execution_count": 56,
   "metadata": {},
   "outputs": [
    {
     "name": "stdout",
     "output_type": "stream",
     "text": [
      "haha\n"
     ]
    },
    {
     "data": {
      "text/plain": [
       "'000000'"
      ]
     },
     "execution_count": 56,
     "metadata": {},
     "output_type": "execute_result"
    }
   ],
   "source": [
    "#元类演示\n",
    "#元类写法是固定的，必须继承自type\n",
    "#元类一般命名以MetaClass结尾\n",
    "class TulingMetaClass(type):\n",
    "    #注意以下写法\n",
    "    def __new__(cls,name,bases,attrs):\n",
    "        #自己的业务处理\n",
    "        print('haha')\n",
    "        attrs['id'] = '000000'\n",
    "        attrs['addr'] = '北京'\n",
    "        \n",
    "        return type.__new__(cls,name,bases,attrs)\n",
    "#元类定义完就可以使用，使用注意写法\n",
    "class Teacher(object,metaclass=TulingMetaClass):\n",
    "    pass\n",
    "t = Teacher()\n",
    "t.id"
   ]
  }
 ],
 "metadata": {
  "kernelspec": {
   "display_name": "Python 3",
   "language": "python",
   "name": "python3"
  },
  "language_info": {
   "codemirror_mode": {
    "name": "ipython",
    "version": 3
   },
   "file_extension": ".py",
   "mimetype": "text/x-python",
   "name": "python",
   "nbconvert_exporter": "python",
   "pygments_lexer": "ipython3",
   "version": "3.7.0"
  }
 },
 "nbformat": 4,
 "nbformat_minor": 2
}
