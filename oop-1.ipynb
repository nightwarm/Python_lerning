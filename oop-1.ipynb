{
 "cells": [
  {
   "cell_type": "code",
   "execution_count": 2,
   "metadata": {},
   "outputs": [
    {
     "name": "stdout",
     "output_type": "stream",
     "text": [
      "dana\n"
     ]
    }
   ],
   "source": [
    "class Student ():\n",
    "    name = 'dana'\n",
    "    age = 10\n",
    "Student.__dict__\n",
    "\n",
    "#实例化\n",
    "yueyue = Student()\n",
    "yueyue.__dict__\n",
    "print(yueyue.name)"
   ]
  },
  {
   "cell_type": "code",
   "execution_count": 1,
   "metadata": {},
   "outputs": [
    {
     "name": "stdout",
     "output_type": "stream",
     "text": [
      "dana\n",
      "18\n",
      "********************\n",
      "2272713079640\n",
      "140705125167392\n",
      "********************\n",
      "dana\n",
      "18\n",
      "2272713079640\n",
      "140705125167392\n"
     ]
    }
   ],
   "source": [
    "class A():\n",
    "    name = 'dana'\n",
    "    age = 18\n",
    "    \n",
    "    def say(self):\n",
    "        self.name = 'aaaa'\n",
    "        self.age = 200\n",
    "\n",
    "# 此案例的说明\n",
    "# 类实例的属性和其对象的实例的属性再不对对象的实例属性赋值的前提下，指向同一个变量\n",
    "print(A.name)\n",
    "print(A.age)\n",
    "\n",
    "print('*' * 20)\n",
    "\n",
    "print(id(A.name))\n",
    "print(id(A.age))\n",
    "\n",
    "print('*' * 20)\n",
    "\n",
    "a = A()\n",
    "print(a.name)\n",
    "print(a.age)\n",
    "print(id(a.name))\n",
    "print(id(a.age))"
   ]
  },
  {
   "cell_type": "code",
   "execution_count": 5,
   "metadata": {},
   "outputs": [
    {
     "name": "stdout",
     "output_type": "stream",
     "text": [
      "dana\n",
      "18\n",
      "********************\n",
      "2272713079640\n",
      "140705125167392\n",
      "********************\n",
      "{'__module__': '__main__', 'name': 'dana', 'age': 18, 'say': <function A.say at 0x0000021128412D90>, '__dict__': <attribute '__dict__' of 'A' objects>, '__weakref__': <attribute '__weakref__' of 'A' objects>, '__doc__': None}\n",
      "{}\n",
      "{'name': 'yaona', 'age': 16}\n",
      "yaona\n",
      "16\n",
      "2272713235400\n",
      "140705125167328\n"
     ]
    }
   ],
   "source": [
    "print(A.name)\n",
    "print(A.age)\n",
    "\n",
    "print('*' * 20)\n",
    "\n",
    "print(id(A.name))\n",
    "print(id(A.age))\n",
    "\n",
    "print('*' * 20)\n",
    "\n",
    "a = A()\n",
    "#查看A内所有的属性\n",
    "print(A.__dict__)\n",
    "print(a.__dict__)\n",
    "\n",
    "a.name = 'yaona'\n",
    "a.age = 16\n",
    "print(a.__dict__)\n",
    "\n",
    "print(a.name)\n",
    "print(a.age)\n",
    "print(id(a.name))\n",
    "print(id(a.age))"
   ]
  },
  {
   "cell_type": "code",
   "execution_count": 9,
   "metadata": {},
   "outputs": [
    {
     "name": "stdout",
     "output_type": "stream",
     "text": [
      "My name is aaa\n",
      "My age is 200\n",
      "My name is aaa\n",
      "My age is 200\n"
     ]
    }
   ],
   "source": [
    "class Student():\n",
    "    name = 'dana'\n",
    "    age = 18\n",
    "    \n",
    "    def say(self):\n",
    "        self.name = 'aaa'\n",
    "        self.age = 200\n",
    "        print('My name is {0}'.format(self.name))\n",
    "        print('My age is {0}'.format(self.age))\n",
    "        \n",
    "    def sayAgain(s):\n",
    "        print('My name is {0}'.format(s.name))\n",
    "        print('My age is {0}'.format(s.age))\n",
    "                \n",
    "yueyue = Student()\n",
    "yueyue.say()\n",
    "yueyue.sayAgain()"
   ]
  },
  {
   "cell_type": "code",
   "execution_count": 15,
   "metadata": {},
   "outputs": [
    {
     "name": "stdout",
     "output_type": "stream",
     "text": [
      "My name is yaona\n",
      "My age is 19\n",
      "dana\n",
      "19\n",
      "Hello , nice to see you \n"
     ]
    }
   ],
   "source": [
    "class Teacher():\n",
    "    name = 'dana'\n",
    "    age = 19\n",
    "    \n",
    "    def say(self):\n",
    "        self.name = 'yaona'\n",
    "        self.age = 17\n",
    "        print('My name is {0}'.format(self.name))\n",
    "        #调用类中的成员，需要使用__class__\n",
    "        print('My age is {0}'.format(__class__.age))\n",
    "    def sayAgain():\n",
    "        print(__class__.name)\n",
    "        print(__class__.age)\n",
    "        print('Hello , nice to see you ')\n",
    "        \n",
    "t = Teacher()\n",
    "t.say()\n",
    "#调用绑定类函数使用类名 t.sayAgain()是错误的\n",
    "Teacher.sayAgain()"
   ]
  },
  {
   "cell_type": "code",
   "execution_count": 21,
   "metadata": {},
   "outputs": [
    {
     "name": "stdout",
     "output_type": "stream",
     "text": [
      "aaaa\n",
      "200\n",
      "aaaa\n",
      "200\n",
      "liuying\n",
      "18\n",
      "bbbb\n",
      "90\n"
     ]
    }
   ],
   "source": [
    "# 关于self的案例\n",
    "\n",
    "class A():\n",
    "    name = 'liuying'\n",
    "    age = 18\n",
    "    \n",
    "    def __init__(self):\n",
    "        self.name = 'aaaa'\n",
    "        self.age = 200\n",
    "        \n",
    "    def say(self):\n",
    "        print(self.name)\n",
    "        print(self.age)\n",
    "        \n",
    "class B():\n",
    "    name = 'bbbb'\n",
    "    age = 90\n",
    "\n",
    "a = A()\n",
    "# 此时，系统会默认把a作为第一个参数传入函数\n",
    "a.say()\n",
    "\n",
    "# 此时，self被a替换\n",
    "A.say(a)\n",
    "#同样可以把A作为参数传入\n",
    "A.say(A)\n",
    "\n",
    "# 此时，传入的时类实例B，因为B具有name和age属性，所以不会报错\n",
    "A.say(B)\n",
    "\n",
    "#以上代码利用了鸭子模型"
   ]
  },
  {
   "cell_type": "code",
   "execution_count": 28,
   "metadata": {},
   "outputs": [
    {
     "name": "stdout",
     "output_type": "stream",
     "text": [
      "liuying\n",
      "19\n"
     ]
    }
   ],
   "source": [
    "class Person():\n",
    "            # name时共有的成员\n",
    "            name = 'liuying'\n",
    "            \n",
    "            #__age就是私有成员\n",
    "            __age = 18\n",
    "p = Person()\n",
    "# name是公有变量\n",
    "print(p.name)\n",
    "\n",
    "p._Person__age = 19\n",
    "print(p._Person__age)"
   ]
  },
  {
   "cell_type": "code",
   "execution_count": 24,
   "metadata": {},
   "outputs": [
    {
     "name": "stdout",
     "output_type": "stream",
     "text": [
      "{'__module__': '__main__', 'name': 'liuying', '_Person__age': 18, '__dict__': <attribute '__dict__' of 'Person' objects>, '__weakref__': <attribute '__weakref__' of 'Person' objects>, '__doc__': None}\n"
     ]
    }
   ],
   "source": [
    "# name mangling技术\n",
    "print(Person.__dict__)"
   ]
  }
 ],
 "metadata": {
  "kernelspec": {
   "display_name": "Python 3",
   "language": "python",
   "name": "python3"
  },
  "language_info": {
   "codemirror_mode": {
    "name": "ipython",
    "version": 3
   },
   "file_extension": ".py",
   "mimetype": "text/x-python",
   "name": "python",
   "nbconvert_exporter": "python",
   "pygments_lexer": "ipython3",
   "version": "3.7.0"
  }
 },
 "nbformat": 4,
 "nbformat_minor": 2
}
