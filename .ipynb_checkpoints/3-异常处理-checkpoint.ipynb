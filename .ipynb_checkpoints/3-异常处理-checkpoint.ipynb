{
 "cells": [
  {
   "cell_type": "markdown",
   "metadata": {},
   "source": [
    "# 异常\n",
    "- 广义上的错误分为错误和异常\n",
    "- 错误指的是可以人为避免\n",
    "- 异常时指在语法逻辑正确的前提下，出现的问题\n",
    "- 在python里，异常时一个类，可以处理和使用\n",
    "\n",
    "## 异常的分类\n",
    " \n",
    "ZeroDivisionError \t除(或取模)零 (所有数据类型)\n",
    "\n",
    "ValueError \t传入无效的参数\n",
    "\n",
    "AssertionError \t断言语句失败\n",
    "\n",
    "StopIteration \t迭代器没有更多的值\n",
    "\n",
    "IndexError \t序列中没有此索引(index)\n",
    "\n",
    "IndentationError \t缩进错误\n",
    "\n",
    "OSError \t输入/输出操作失败\n",
    "\n",
    "ImportError \t导入模块/对象失败\n",
    "\n",
    "NameError \t未声明/初始化对象 (没有属性)\n",
    "\n",
    "AttributeError \t对象没有这个属性\n",
    "\n",
    "  \t \n",
    "GeneratorExit \t生成器(generator)发生异常来通知退出\n",
    "\n",
    "TypeError \t对类型无效的操作\n",
    "\n",
    "KeyboardInterrupt \t用户中断执行(通常是输入^C)\n",
    "\n",
    "OverflowError \t数值运算超出最大限制\n",
    "\n",
    "FloatingPointError \t浮点计算错误\n",
    "\n",
    "BaseException \t所有异常的基类\n",
    "\n",
    "SystemExit \t解释器请求退出\n",
    "\n",
    "Exception \t常规错误的基类\n",
    "\n",
    "StandardError \t所有的内建标准异常的基类\n",
    "\n",
    "ArithmeticError \t所有数值计算错误的基类\n",
    "\n",
    "EOFError \t没有内建输入,到达EOF 标记\n",
    "\n",
    "EnvironmentError \t操作系统错误的基类\n",
    "\n",
    "WindowsError \t系统调用失败\n",
    "\n",
    "LookupError \t无效数据查询的基类\n",
    "\n",
    "KeyError \t映射中没有这个键\n",
    "\n",
    "MemoryError \t内存溢出错误(对于Python 解释器不是致命的)\n",
    "\n",
    "UnboundLocalError \t访问未初始化的本地变量\n",
    "\n",
    "ReferenceError \t弱引用(Weak reference)试图访问已经垃圾回收了的对象\n",
    "\n",
    "RuntimeError \t一般的运行时错误\n",
    "\n",
    "NotImplementedError \t尚未实现的方法\n",
    "\n",
    "SyntaxError Python \t语法错误\n",
    "\n",
    "TabError \tTab 和空格混用\n",
    "\n",
    "SystemError \t一般的解释器系统错误\n",
    "\n",
    "UnicodeError \tUnicode 相关的错误\n",
    "\n",
    "UnicodeDecodeError \tUnicode 解码时的错误\n",
    "\n",
    "UnicodeEncodeError \tUnicode 编码时错误\n",
    "\n",
    "UnicodeTranslateError \tUnicode 转换时错误\n",
    "\n",
    "以下为警告类型 \t \n",
    "Warning \t警告的基类\n",
    "\n",
    "DeprecationWarning \t关于被弃用的特征的警告\n",
    "\n",
    "FutureWarning \t关于构造将来语义会有改变的警告\n",
    "\n",
    "OverflowWarning \t旧的关于自动提升为长整型(long)的警告\n",
    "\n",
    "PendingDeprecationWarning \t关于特性将会被废弃的警告\n",
    "\n",
    "RuntimeWarning \t可疑的运行时行为(runtime behavior)的警告\n",
    "\n",
    "SyntaxWarning \t可疑的语法的警告\n"
   ]
  },
  {
   "cell_type": "markdown",
   "metadata": {},
   "source": [
    "# 异常处理\n",
    "- 不能保证程序永远正确运行\n",
    "- 但是必须保证程序在最坏的情况下得到的问题被妥善处理\n",
    "- python的异常处理模块全部语法为：\n",
    "\n",
    "\n",
    "          try:\n",
    "               尝试实现某个操作，\n",
    "               如果没出现异常，任务就可以完成\n",
    "               如果出现异常，将异常从当前代码块扔出去尝试解决异常\n",
    "\n",
    "           except 异常类型1:\n",
    "               解决方案1：用于尝试在此处处理异常解决问题\n",
    "\n",
    "           except 异常类型2：\n",
    "               解决方案2：用于尝试在此处处理异常解决问题\n",
    "\n",
    "           except (异常类型1,异常类型2...)\n",
    "               解决方案：针对多个异常使用相同的处理方式\n",
    "           excpet:\n",
    "               解决方案：所有异常的解决方案\n",
    "           else:\n",
    "               如果没有出现任何异常，将会执行此处代码\n",
    "               管你有没有异常都要执行的代码\n",
    "           finally:\n",
    "               管你有没有异常都要执行的代码\n",
    "- 流程\n",
    "    1.执行try下面的语句\n",
    "    2.如果出现异常，则在except语句里查找对应异常并进行处理\n",
    "    3.如果没有异常，则执行else语句内容\n",
    "    4.最后不管是否出现异常，都要执行finally语句\n",
    "- 除except（最少一个）以外，else和finally可选"
   ]
  },
  {
   "cell_type": "code",
   "execution_count": 2,
   "metadata": {},
   "outputs": [
    {
     "name": "stdout",
     "output_type": "stream",
     "text": [
      "please input your number:9\n",
      "计算结果是:11.11111111111111\n"
     ]
    }
   ],
   "source": [
    "# 简单异常案例\n",
    "try:\n",
    "    num = int(input('please input your number:'))\n",
    "    rst = 100/num\n",
    "    print('计算结果是:{0}'.format(rst))\n",
    "except:\n",
    "    print('输入错误')\n",
    "    # exit是退出程序的意思\n",
    "    exit()\n",
    "    "
   ]
  },
  {
   "cell_type": "code",
   "execution_count": 1,
   "metadata": {},
   "outputs": [
    {
     "name": "stdout",
     "output_type": "stream",
     "text": [
      "please input your number:1\n",
      "计算结果是:100.0\n"
     ]
    }
   ],
   "source": [
    "# 简单异常案例\n",
    "# 给出提示信息\n",
    "try:\n",
    "    num = int(input('please input your number:'))\n",
    "    rst = 100/num\n",
    "    print('计算结果是:{0}'.format(rst))\n",
    "# 捕获异常后，把异常实例化，出错信息会在实例里\n",
    "# 注意以下写法\n",
    "# 以下语句是捕获ZeroDivisionError并实例化实例e\n",
    "except ZeroDivisionError as e:\n",
    "    print('输入错误')\n",
    "    print(e)\n",
    "    #exit是退出程序的意思\n",
    "    exit()\n",
    "    "
   ]
  },
  {
   "cell_type": "code",
   "execution_count": 2,
   "metadata": {},
   "outputs": [
    {
     "name": "stdout",
     "output_type": "stream",
     "text": [
      "please input your number:fgdsgdf\n",
      "未知错误\n",
      "invalid literal for int() with base 10: 'fgdsgdf'\n",
      "hhhhhhhhh\n"
     ]
    }
   ],
   "source": [
    "# 简单异常案例\n",
    "# 给出提示信息\n",
    "try:\n",
    "    num = int(input('please input your number:'))\n",
    "    rst = 100/num\n",
    "    print('计算结果是:{0}'.format(rst))\n",
    "# 如果是多种错误的情况\n",
    "# 越具体的错误越放前面\n",
    "# 在异常类继承关系中，越是子类的异常越要往前放\n",
    "# 越是父类的异常，越要往后放\n",
    "\n",
    "# 在处理异常的时候，一旦拦截到某个异常，则不再继续往下查看，直接进行下一个代码\n",
    "#即有finallu则执行finally语句块，否则就执行下一个大的语句\n",
    "except ZeroDivisionError as e:\n",
    "    print('输入错误')\n",
    "    print(e)\n",
    "    #exit是退出程序的意思\n",
    "    exit()\n",
    "except NameError as e:\n",
    "    print('名称错误')\n",
    "    print(e)\n",
    "except AttributeError as e:\n",
    "    print('属性错误')\n",
    "    print(e)\n",
    "    exit()\n",
    "    \n",
    "# 所有异常都继承自Exception\n",
    "# 如果写上这句话，任何异常都会被拦截\n",
    "# 而且下面这句话一定是最后一个exception，后面再写就没意义了\n",
    "except Exception as e:\n",
    "    print ('未知错误')\n",
    "    print(e)\n",
    "    \n",
    "print('hhhhhhhhh')"
   ]
  },
  {
   "cell_type": "markdown",
   "metadata": {},
   "source": [
    "# 用户手动引发异常\n",
    "- 当某些情况，用户希望自己引发一个异常的时候，可以使用\n",
    "- raise 关键字来引发异常"
   ]
  },
  {
   "cell_type": "code",
   "execution_count": 4,
   "metadata": {},
   "outputs": [
    {
     "name": "stdout",
     "output_type": "stream",
     "text": [
      "我爱王晓静\n",
      "3.1415926\n",
      "ValueError\n",
      "我肯定会被执行\n"
     ]
    }
   ],
   "source": [
    "# raise案例 \n",
    "try:\n",
    "    print('我爱王晓静')\n",
    "    print(3.1415926)\n",
    "    # 手动引发一个异常\n",
    "    # 注意语法：raise ErrorClassName\n",
    "    raise ValueError\n",
    "    print('还没完')\n",
    "except NameError as e:\n",
    "    print('NameError')\n",
    "except ValueError as e:\n",
    "    print('ValueError')\n",
    "except Exception as e:\n",
    "    print('有异常')\n",
    "finally:\n",
    "    print('我肯定会被执行')"
   ]
  },
  {
   "cell_type": "code",
   "execution_count": 6,
   "metadata": {},
   "outputs": [
    {
     "name": "stdout",
     "output_type": "stream",
     "text": [
      "我爱王晓静\n",
      "3.1415926\n",
      "DanaError\n",
      "我肯定会被执行\n"
     ]
    }
   ],
   "source": [
    "# raise案例 2\n",
    "# 自己定义异常\n",
    "# 需要注意：自定义异常必须是系统异常的子类\n",
    "class DanaError(ValueError):\n",
    "    pass\n",
    "try:\n",
    "    print('我爱王晓静')\n",
    "    print(3.1415926)\n",
    "    # 手动引发一个异常\n",
    "    # 注意语法：raise ErrorClassName\n",
    "    raise DanaError\n",
    "    print('还没完')\n",
    "except NameError as e:\n",
    "    print('NameError')\n",
    "except DanaError as e:\n",
    "    print('DanaError')\n",
    "except ValueError as e:\n",
    "    print('ValueError')\n",
    "except Exception as e:\n",
    "    print('有异常')\n",
    "finally:\n",
    "    print('我肯定会被执行')"
   ]
  },
  {
   "cell_type": "code",
   "execution_count": null,
   "metadata": {},
   "outputs": [],
   "source": [
    "# eles语句举例\n",
    "\n",
    "try:\n",
    "    num = int(input('please input your number:'))\n",
    "    rst = 100/num\n",
    "    print('计算结果是:{0}'.format(rst))\n",
    "except Exception as e:\n",
    "    print('Exception')\n",
    "else:\n",
    "    print('No Exception')\n",
    "finally:\n",
    "    print('我会被执行')"
   ]
  },
  {
   "cell_type": "markdown",
   "metadata": {},
   "source": [
    "# 关于自定义异常\n",
    " - 只要是raise异常，则推荐自定义异常\n",
    " - 在自定义异常的时候，一般包含以下内容：\n",
    "     - 自定义发生异常的异常代码\n",
    "     - 自定义发生异常后的问题提示\n",
    "     - 自定义发生异常的行数\n",
    " - 最终的目的是，一旦发生异常，方便程序员快速定位错误现场"
   ]
  },
  {
   "cell_type": "code",
   "execution_count": null,
   "metadata": {},
   "outputs": [],
   "source": []
  }
 ],
 "metadata": {
  "kernelspec": {
   "display_name": "Python 3",
   "language": "python",
   "name": "python3"
  },
  "language_info": {
   "codemirror_mode": {
    "name": "ipython",
    "version": 3
   },
   "file_extension": ".py",
   "mimetype": "text/x-python",
   "name": "python",
   "nbconvert_exporter": "python",
   "pygments_lexer": "ipython3",
   "version": "3.7.3"
  }
 },
 "nbformat": 4,
 "nbformat_minor": 2
}
